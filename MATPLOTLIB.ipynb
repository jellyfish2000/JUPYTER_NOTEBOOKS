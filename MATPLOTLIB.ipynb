{
 "cells": [
  {
   "cell_type": "markdown",
   "id": "4c28a0cf-b538-4260-b16c-db2bd8169276",
   "metadata": {},
   "source": [
    "# Understanding Matplotlib"
   ]
  },
  {
   "cell_type": "code",
   "execution_count": 1,
   "id": "ad3e7df7-1237-4657-8c35-0731f2d40972",
   "metadata": {},
   "outputs": [
    {
     "data": {
      "text/plain": [
       "<matplotlib.collections.PathCollection at 0x23229da4ee0>"
      ]
     },
     "execution_count": 1,
     "metadata": {},
     "output_type": "execute_result"
    },
    {
     "data": {
      "image/png": "[encoded data removed]",
      "text/plain": [
       "<Figure size 432x288 with 1 Axes>"
      ]
     },
     "metadata": {
      "needs_background": "light"
     },
     "output_type": "display_data"
    }
   ],
   "source": [
    "import matplotlib.pyplot as plt\n",
    "\n",
    "x = [1,2,3,4,5,6,7,8,9]\n",
    "y = [1,1,1,1,1,1,1,1,1]\n",
    "\n",
    "c = [1,0,1,0,1,0,1,0,0.5]\n",
    "\n",
    "#plt.figure(figsize=(5,5))\n",
    "#plt.scatter(X_test.T[:,0], X_test.T[:,1], c=AL.T, s=20, cmap='jet')\n",
    "\n",
    "plt.scatter(x,y,c =c)"
   ]
  },
  {
   "cell_type": "code",
   "execution_count": null,
   "id": "851c18cd-f4e3-4258-b123-724718c2ea26",
   "metadata": {},
   "outputs": [],
   "source": []
  }
 ],
 "metadata": {
  "kernelspec": {
   "display_name": "Python 3 (ipykernel)",
   "language": "python",
   "name": "python3"
  },
  "language_info": {
   "codemirror_mode": {
    "name": "ipython",
    "version": 3
   },
   "file_extension": ".py",
   "mimetype": "text/x-python",
   "name": "python",
   "nbconvert_exporter": "python",
   "pygments_lexer": "ipython3",
   "version": "3.9.12"
  }
 },
 "nbformat": 4,
 "nbformat_minor": 5
}
